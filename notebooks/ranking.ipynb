{
 "cells": [
  {
   "cell_type": "code",
   "execution_count": 1,
   "id": "sound-prefix",
   "metadata": {},
   "outputs": [],
   "source": [
    "import lightgbm as lgb\n",
    "import json\n",
    "import pandas as pd\n",
    "import nltk\n",
    "from nltk.corpus import stopwords \n",
    "from nltk.stem import PorterStemmer\n",
    "from nltk.tokenize import word_tokenize \n",
    "from sklearn.feature_extraction.text import CountVectorizer as CV\n",
    "from sklearn.feature_extraction.text import TfidfVectorizer as TV\n",
    "from sklearn.model_selection import train_test_split\n",
    "import numpy as np\n",
    "import pickle\n",
    "np.random.seed(109)"
   ]
  },
  {
   "cell_type": "code",
   "execution_count": 2,
   "id": "human-neighborhood",
   "metadata": {},
   "outputs": [],
   "source": [
    "p1 = r\"..\\cybernews\\data\\jsons\\Feb.json\"\n",
    "p2 = r\"..\\cybernews\\data\\jsons\\March.json\"\n",
    "\n",
    "js_ls = []\n",
    "for file in [p1,p2]:\n",
    "    with open(file, encoding=\"utf-8\") as fp:\n",
    "        js = json.load(fp)\n",
    "        for el in js:\n",
    "            js_ls.append(el)\n",
    "df = pd.json_normalize(js_ls)"
   ]
  },
  {
   "cell_type": "code",
   "execution_count": 3,
   "id": "interested-power",
   "metadata": {},
   "outputs": [],
   "source": [
    "df.ranking = abs(df.ranking - df.ranking.max())+1"
   ]
  },
  {
   "cell_type": "code",
   "execution_count": 4,
   "id": "legitimate-wallpaper",
   "metadata": {},
   "outputs": [
    {
     "data": {
      "text/html": [
       "<div>\n",
       "<style scoped>\n",
       "    .dataframe tbody tr th:only-of-type {\n",
       "        vertical-align: middle;\n",
       "    }\n",
       "\n",
       "    .dataframe tbody tr th {\n",
       "        vertical-align: top;\n",
       "    }\n",
       "\n",
       "    .dataframe thead th {\n",
       "        text-align: right;\n",
       "    }\n",
       "</style>\n",
       "<table border=\"1\" class=\"dataframe\">\n",
       "  <thead>\n",
       "    <tr style=\"text-align: right;\">\n",
       "      <th></th>\n",
       "      <th>title</th>\n",
       "      <th>url</th>\n",
       "      <th>ranking</th>\n",
       "      <th>filename</th>\n",
       "      <th>body</th>\n",
       "      <th>date</th>\n",
       "      <th>source</th>\n",
       "      <th>author</th>\n",
       "    </tr>\n",
       "  </thead>\n",
       "  <tbody>\n",
       "    <tr>\n",
       "      <th>0</th>\n",
       "      <td>White House announces senior official Is leadi...</td>\n",
       "      <td>https://www.nytimes.com/2021/02/10/us/politics...</td>\n",
       "      <td>7</td>\n",
       "      <td>Cyber_Clips_February_11_2021.docx</td>\n",
       "      <td>WASHINGTON — The White House announced on Wed...</td>\n",
       "      <td>2021-02-10 00:00:00</td>\n",
       "      <td>New York Times</td>\n",
       "      <td>[Julian E. Barnes, David E. Sanger]</td>\n",
       "    </tr>\n",
       "    <tr>\n",
       "      <th>1</th>\n",
       "      <td>Report highlights cyber risks to US election s...</td>\n",
       "      <td>https://www.cyberscoop.com/florida-water-hack-...</td>\n",
       "      <td>6</td>\n",
       "      <td>Cyber_Clips_February_11_2021.docx</td>\n",
       "      <td>A hack that apparently affected a Florida wat...</td>\n",
       "      <td>2021-02-10 00:00:00</td>\n",
       "      <td>CyberScoop</td>\n",
       "      <td>[Sean Lyngaas]</td>\n",
       "    </tr>\n",
       "    <tr>\n",
       "      <th>2</th>\n",
       "      <td>We Must Reorient US Cyber Strategy Around the ...</td>\n",
       "      <td>https://news.yahoo.com/report-highlights-cyber...</td>\n",
       "      <td>5</td>\n",
       "      <td>Cyber_Clips_February_11_2021.docx</td>\n",
       "      <td>ATLANTA (AP) — Election systems in the U.S. a...</td>\n",
       "      <td>2021-02-10 00:00:00</td>\n",
       "      <td>Associated Press</td>\n",
       "      <td>[Christina A. Cassidy]</td>\n",
       "    </tr>\n",
       "    <tr>\n",
       "      <th>3</th>\n",
       "      <td>White House announces senior official Is leadi...</td>\n",
       "      <td>https://www.defenseone.com/ideas/2021/02/five-...</td>\n",
       "      <td>4</td>\n",
       "      <td>Cyber_Clips_February_11_2021.docx</td>\n",
       "      <td>This oped is adapted from Dmitri Alperovitch'...</td>\n",
       "      <td>2021-02-10 00:00:00</td>\n",
       "      <td>Defense One</td>\n",
       "      <td>[Dmitri Alperovitch]</td>\n",
       "    </tr>\n",
       "    <tr>\n",
       "      <th>4</th>\n",
       "      <td>Florida hack highlights security shortages in ...</td>\n",
       "      <td>https://www.brookings.edu/blog/techtank/2021/0...</td>\n",
       "      <td>3</td>\n",
       "      <td>Cyber_Clips_February_11_2021.docx</td>\n",
       "      <td>America’s networks are under attack. While th...</td>\n",
       "      <td>2021-02-11 00:00:00</td>\n",
       "      <td>Brookings</td>\n",
       "      <td>[Tom Wheeler]</td>\n",
       "    </tr>\n",
       "  </tbody>\n",
       "</table>\n",
       "</div>"
      ],
      "text/plain": [
       "                                               title  \\\n",
       "0  White House announces senior official Is leadi...   \n",
       "1  Report highlights cyber risks to US election s...   \n",
       "2  We Must Reorient US Cyber Strategy Around the ...   \n",
       "3  White House announces senior official Is leadi...   \n",
       "4  Florida hack highlights security shortages in ...   \n",
       "\n",
       "                                                 url  ranking  \\\n",
       "0  https://www.nytimes.com/2021/02/10/us/politics...        7   \n",
       "1  https://www.cyberscoop.com/florida-water-hack-...        6   \n",
       "2  https://news.yahoo.com/report-highlights-cyber...        5   \n",
       "3  https://www.defenseone.com/ideas/2021/02/five-...        4   \n",
       "4  https://www.brookings.edu/blog/techtank/2021/0...        3   \n",
       "\n",
       "                            filename  \\\n",
       "0  Cyber_Clips_February_11_2021.docx   \n",
       "1  Cyber_Clips_February_11_2021.docx   \n",
       "2  Cyber_Clips_February_11_2021.docx   \n",
       "3  Cyber_Clips_February_11_2021.docx   \n",
       "4  Cyber_Clips_February_11_2021.docx   \n",
       "\n",
       "                                                body                 date  \\\n",
       "0   WASHINGTON — The White House announced on Wed...  2021-02-10 00:00:00   \n",
       "1   A hack that apparently affected a Florida wat...  2021-02-10 00:00:00   \n",
       "2   ATLANTA (AP) — Election systems in the U.S. a...  2021-02-10 00:00:00   \n",
       "3   This oped is adapted from Dmitri Alperovitch'...  2021-02-10 00:00:00   \n",
       "4   America’s networks are under attack. While th...  2021-02-11 00:00:00   \n",
       "\n",
       "             source                               author  \n",
       "0    New York Times  [Julian E. Barnes, David E. Sanger]  \n",
       "1        CyberScoop                       [Sean Lyngaas]  \n",
       "2  Associated Press               [Christina A. Cassidy]  \n",
       "3       Defense One                 [Dmitri Alperovitch]  \n",
       "4         Brookings                        [Tom Wheeler]  "
      ]
     },
     "execution_count": 4,
     "metadata": {},
     "output_type": "execute_result"
    }
   ],
   "source": [
    "df.head()"
   ]
  },
  {
   "cell_type": "code",
   "execution_count": 5,
   "id": "prescribed-prayer",
   "metadata": {},
   "outputs": [],
   "source": [
    "files = pd.unique(df[\"filename\"])\n",
    "np.random.shuffle(files)\n",
    "[train, val, test] = np.split(files, [int(.8 * len(files)), int(.9 * len(files))])\n"
   ]
  },
  {
   "cell_type": "code",
   "execution_count": 6,
   "id": "based-brain",
   "metadata": {},
   "outputs": [],
   "source": [
    "def match(row):\n",
    "    if row.filename in train: \n",
    "        return \"train\"\n",
    "    if row.filename in val:\n",
    "        return \"validation\"\n",
    "    if row.filename in test:\n",
    "        return \"test\"\n",
    "        "
   ]
  },
  {
   "cell_type": "code",
   "execution_count": 7,
   "id": "revolutionary-coral",
   "metadata": {},
   "outputs": [],
   "source": [
    "df[\"ttv\"] = df.apply(lambda row: match(row), axis=1)"
   ]
  },
  {
   "cell_type": "code",
   "execution_count": 8,
   "id": "following-consciousness",
   "metadata": {},
   "outputs": [],
   "source": [
    "X_train = df[df['ttv'] == \"train\"]\n",
    "X_val = df[df['ttv'] == \"validation\"]\n",
    "X_test = df[df['ttv'] == \"test\"]\n",
    "X_train = X_train.sort_values(by=\"filename\")\n",
    "X_val = X_val.sort_values(by=\"filename\")\n",
    "X_test = X_test.sort_values(by=\"filename\")\n",
    "y_train = X_train[\"ranking\"]\n",
    "y_val = X_val[\"ranking\"]\n",
    "y_test = X_test[\"ranking\"]"
   ]
  },
  {
   "cell_type": "code",
   "execution_count": 9,
   "id": "colored-timeline",
   "metadata": {},
   "outputs": [],
   "source": [
    "train_group=X_train.groupby(\"filename\").count()[\"title\"].tolist()\n",
    "val_group=X_val.groupby(\"filename\").count()[\"title\"].tolist()"
   ]
  },
  {
   "cell_type": "code",
   "execution_count": 11,
   "id": "rental-adventure",
   "metadata": {},
   "outputs": [],
   "source": [
    "stops = stopwords.words('english')\n",
    "analyze = CV(stop_words=stops, min_df = 15, max_df=.5)\n",
    "ps = PorterStemmer()\n",
    "def stop_removal(text : str): \n",
    "    toks=analyze(text)\n",
    "    return ' '.join([ps.stem(word) for word in toks if not ps.stem(word) in stops])"
   ]
  },
  {
   "cell_type": "code",
   "execution_count": 12,
   "id": "failing-haiti",
   "metadata": {},
   "outputs": [],
   "source": [
    "analyze = TV(stop_words=stops, min_df = 15, max_df=.5)\n",
    "sparse_train = analyze.fit_transform(X_train[\"body\"]).astype('float32')\n",
    "sparse_val = analyze.transform(X_val[\"body\"]).astype('float32')"
   ]
  },
  {
   "cell_type": "code",
   "execution_count": 13,
   "id": "colonial-feeding",
   "metadata": {},
   "outputs": [
    {
     "name": "stdout",
     "output_type": "stream",
     "text": [
      "[1]\tvalid_0's ndcg@1: 0.417323\tvalid_0's ndcg@2: 0.409914\tvalid_0's ndcg@3: 0.525944\tvalid_0's ndcg@4: 0.542173\tvalid_0's ndcg@5: 0.602543\n",
      "Training until validation scores don't improve for 50 rounds\n",
      "[2]\tvalid_0's ndcg@1: 0.35958\tvalid_0's ndcg@2: 0.373503\tvalid_0's ndcg@3: 0.477998\tvalid_0's ndcg@4: 0.533905\tvalid_0's ndcg@5: 0.642896\n",
      "[3]\tvalid_0's ndcg@1: 0.506562\tvalid_0's ndcg@2: 0.586348\tvalid_0's ndcg@3: 0.628844\tvalid_0's ndcg@4: 0.720667\tvalid_0's ndcg@5: 0.731356\n",
      "[4]\tvalid_0's ndcg@1: 0.501312\tvalid_0's ndcg@2: 0.584872\tvalid_0's ndcg@3: 0.737234\tvalid_0's ndcg@4: 0.766009\tvalid_0's ndcg@5: 0.780098\n",
      "[5]\tvalid_0's ndcg@1: 0.501312\tvalid_0's ndcg@2: 0.625232\tvalid_0's ndcg@3: 0.744897\tvalid_0's ndcg@4: 0.765802\tvalid_0's ndcg@5: 0.802799\n",
      "[6]\tvalid_0's ndcg@1: 0.669291\tvalid_0's ndcg@2: 0.672449\tvalid_0's ndcg@3: 0.773467\tvalid_0's ndcg@4: 0.794916\tvalid_0's ndcg@5: 0.840932\n",
      "[7]\tvalid_0's ndcg@1: 0.669291\tvalid_0's ndcg@2: 0.828843\tvalid_0's ndcg@3: 0.8434\tvalid_0's ndcg@4: 0.830503\tvalid_0's ndcg@5: 0.866584\n",
      "[8]\tvalid_0's ndcg@1: 0.669291\tvalid_0's ndcg@2: 0.672449\tvalid_0's ndcg@3: 0.788099\tvalid_0's ndcg@4: 0.816654\tvalid_0's ndcg@5: 0.836763\n",
      "[9]\tvalid_0's ndcg@1: 0.669291\tvalid_0's ndcg@2: 0.672449\tvalid_0's ndcg@3: 0.729571\tvalid_0's ndcg@4: 0.808817\tvalid_0's ndcg@5: 0.829037\n",
      "[10]\tvalid_0's ndcg@1: 0.669291\tvalid_0's ndcg@2: 0.672449\tvalid_0's ndcg@3: 0.703965\tvalid_0's ndcg@4: 0.805389\tvalid_0's ndcg@5: 0.825657\n",
      "[11]\tvalid_0's ndcg@1: 0.669291\tvalid_0's ndcg@2: 0.828843\tvalid_0's ndcg@3: 0.792188\tvalid_0's ndcg@4: 0.841903\tvalid_0's ndcg@5: 0.871087\n",
      "[12]\tvalid_0's ndcg@1: 0.669291\tvalid_0's ndcg@2: 0.828843\tvalid_0's ndcg@3: 0.795846\tvalid_0's ndcg@4: 0.818049\tvalid_0's ndcg@5: 0.869127\n",
      "[13]\tvalid_0's ndcg@1: 0.669291\tvalid_0's ndcg@2: 0.753169\tvalid_0's ndcg@3: 0.781477\tvalid_0's ndcg@4: 0.804173\tvalid_0's ndcg@5: 0.817722\n",
      "[14]\tvalid_0's ndcg@1: 0.669291\tvalid_0's ndcg@2: 0.753169\tvalid_0's ndcg@3: 0.781477\tvalid_0's ndcg@4: 0.804173\tvalid_0's ndcg@5: 0.855447\n",
      "[15]\tvalid_0's ndcg@1: 0.669291\tvalid_0's ndcg@2: 0.63209\tvalid_0's ndcg@3: 0.729224\tvalid_0's ndcg@4: 0.778052\tvalid_0's ndcg@5: 0.829696\n",
      "[16]\tvalid_0's ndcg@1: 0.669291\tvalid_0's ndcg@2: 0.596775\tvalid_0's ndcg@3: 0.638385\tvalid_0's ndcg@4: 0.760311\tvalid_0's ndcg@5: 0.802775\n",
      "[17]\tvalid_0's ndcg@1: 0.669291\tvalid_0's ndcg@2: 0.596775\tvalid_0's ndcg@3: 0.638385\tvalid_0's ndcg@4: 0.711624\tvalid_0's ndcg@5: 0.79789\n",
      "[18]\tvalid_0's ndcg@1: 0.669291\tvalid_0's ndcg@2: 0.596775\tvalid_0's ndcg@3: 0.638385\tvalid_0's ndcg@4: 0.760311\tvalid_0's ndcg@5: 0.802775\n",
      "[19]\tvalid_0's ndcg@1: 0.669291\tvalid_0's ndcg@2: 0.672449\tvalid_0's ndcg@3: 0.652753\tvalid_0's ndcg@4: 0.774188\tvalid_0's ndcg@5: 0.816455\n",
      "[20]\tvalid_0's ndcg@1: 0.669291\tvalid_0's ndcg@2: 0.672449\tvalid_0's ndcg@3: 0.652753\tvalid_0's ndcg@4: 0.774188\tvalid_0's ndcg@5: 0.825886\n",
      "[21]\tvalid_0's ndcg@1: 0.669291\tvalid_0's ndcg@2: 0.672449\tvalid_0's ndcg@3: 0.678359\tvalid_0's ndcg@4: 0.777616\tvalid_0's ndcg@5: 0.819835\n",
      "[22]\tvalid_0's ndcg@1: 0.669291\tvalid_0's ndcg@2: 0.672449\tvalid_0's ndcg@3: 0.678359\tvalid_0's ndcg@4: 0.777616\tvalid_0's ndcg@5: 0.819835\n",
      "[23]\tvalid_0's ndcg@1: 0.669291\tvalid_0's ndcg@2: 0.672449\tvalid_0's ndcg@3: 0.766151\tvalid_0's ndcg@4: 0.789372\tvalid_0's ndcg@5: 0.840855\n",
      "[24]\tvalid_0's ndcg@1: 0.669291\tvalid_0's ndcg@2: 0.63209\tvalid_0's ndcg@3: 0.758488\tvalid_0's ndcg@4: 0.781971\tvalid_0's ndcg@5: 0.824128\n",
      "[25]\tvalid_0's ndcg@1: 0.669291\tvalid_0's ndcg@2: 0.596775\tvalid_0's ndcg@3: 0.696913\tvalid_0's ndcg@4: 0.74989\tvalid_0's ndcg@5: 0.770944\n",
      "[26]\tvalid_0's ndcg@1: 0.669291\tvalid_0's ndcg@2: 0.596775\tvalid_0's ndcg@3: 0.696913\tvalid_0's ndcg@4: 0.74989\tvalid_0's ndcg@5: 0.770944\n",
      "[27]\tvalid_0's ndcg@1: 0.669291\tvalid_0's ndcg@2: 0.596775\tvalid_0's ndcg@3: 0.696913\tvalid_0's ndcg@4: 0.74989\tvalid_0's ndcg@5: 0.792501\n",
      "[28]\tvalid_0's ndcg@1: 0.669291\tvalid_0's ndcg@2: 0.596775\tvalid_0's ndcg@3: 0.696913\tvalid_0's ndcg@4: 0.74989\tvalid_0's ndcg@5: 0.792501\n",
      "[29]\tvalid_0's ndcg@1: 0.674541\tvalid_0's ndcg@2: 0.598251\tvalid_0's ndcg@3: 0.698263\tvalid_0's ndcg@4: 0.751194\tvalid_0's ndcg@5: 0.772229\n",
      "[30]\tvalid_0's ndcg@1: 0.669291\tvalid_0's ndcg@2: 0.596775\tvalid_0's ndcg@3: 0.696913\tvalid_0's ndcg@4: 0.74989\tvalid_0's ndcg@5: 0.792501\n",
      "[31]\tvalid_0's ndcg@1: 0.674541\tvalid_0's ndcg@2: 0.598251\tvalid_0's ndcg@3: 0.698263\tvalid_0's ndcg@4: 0.751194\tvalid_0's ndcg@5: 0.793787\n",
      "[32]\tvalid_0's ndcg@1: 0.674541\tvalid_0's ndcg@2: 0.598251\tvalid_0's ndcg@3: 0.698263\tvalid_0's ndcg@4: 0.751194\tvalid_0's ndcg@5: 0.772229\n",
      "[33]\tvalid_0's ndcg@1: 0.669291\tvalid_0's ndcg@2: 0.788483\tvalid_0's ndcg@3: 0.733313\tvalid_0's ndcg@4: 0.785044\tvalid_0's ndcg@5: 0.8056\n",
      "[34]\tvalid_0's ndcg@1: 0.669291\tvalid_0's ndcg@2: 0.753169\tvalid_0's ndcg@3: 0.726607\tvalid_0's ndcg@4: 0.778568\tvalid_0's ndcg@5: 0.799216\n",
      "[35]\tvalid_0's ndcg@1: 0.669291\tvalid_0's ndcg@2: 0.753169\tvalid_0's ndcg@3: 0.726607\tvalid_0's ndcg@4: 0.778568\tvalid_0's ndcg@5: 0.830205\n",
      "[36]\tvalid_0's ndcg@1: 0.343832\tvalid_0's ndcg@2: 0.540605\tvalid_0's ndcg@3: 0.619914\tvalid_0's ndcg@4: 0.675528\tvalid_0's ndcg@5: 0.71919\n",
      "[37]\tvalid_0's ndcg@1: 0.417323\tvalid_0's ndcg@2: 0.561263\tvalid_0's ndcg@3: 0.638815\tvalid_0's ndcg@4: 0.693781\tvalid_0's ndcg@5: 0.72506\n",
      "[38]\tvalid_0's ndcg@1: 0.417323\tvalid_0's ndcg@2: 0.561263\tvalid_0's ndcg@3: 0.638815\tvalid_0's ndcg@4: 0.693781\tvalid_0's ndcg@5: 0.72506\n",
      "[39]\tvalid_0's ndcg@1: 0.674541\tvalid_0's ndcg@2: 0.633565\tvalid_0's ndcg@3: 0.704968\tvalid_0's ndcg@4: 0.75767\tvalid_0's ndcg@5: 0.788045\n",
      "[40]\tvalid_0's ndcg@1: 0.748031\tvalid_0's ndcg@2: 0.810617\tvalid_0's ndcg@3: 0.753563\tvalid_0's ndcg@4: 0.804601\tvalid_0's ndcg@5: 0.85587\n",
      "[41]\tvalid_0's ndcg@1: 0.748031\tvalid_0's ndcg@2: 0.810617\tvalid_0's ndcg@3: 0.753563\tvalid_0's ndcg@4: 0.804601\tvalid_0's ndcg@5: 0.85587\n",
      "[42]\tvalid_0's ndcg@1: 0.417323\tvalid_0's ndcg@2: 0.717657\tvalid_0's ndcg@3: 0.66851\tvalid_0's ndcg@4: 0.722459\tvalid_0's ndcg@5: 0.77489\n",
      "[43]\tvalid_0's ndcg@1: 0.417323\tvalid_0's ndcg@2: 0.561263\tvalid_0's ndcg@3: 0.638815\tvalid_0's ndcg@4: 0.693781\tvalid_0's ndcg@5: 0.737186\n",
      "[44]\tvalid_0's ndcg@1: 0.669291\tvalid_0's ndcg@2: 0.788483\tvalid_0's ndcg@3: 0.733313\tvalid_0's ndcg@4: 0.827645\tvalid_0's ndcg@5: 0.831431\n",
      "[45]\tvalid_0's ndcg@1: 0.669291\tvalid_0's ndcg@2: 0.788483\tvalid_0's ndcg@3: 0.733313\tvalid_0's ndcg@4: 0.827645\tvalid_0's ndcg@5: 0.831431\n",
      "[46]\tvalid_0's ndcg@1: 0.417323\tvalid_0's ndcg@2: 0.561263\tvalid_0's ndcg@3: 0.638815\tvalid_0's ndcg@4: 0.693781\tvalid_0's ndcg@5: 0.737186\n",
      "[47]\tvalid_0's ndcg@1: 0.417323\tvalid_0's ndcg@2: 0.561263\tvalid_0's ndcg@3: 0.638815\tvalid_0's ndcg@4: 0.693781\tvalid_0's ndcg@5: 0.746617\n",
      "[48]\tvalid_0's ndcg@1: 0.417323\tvalid_0's ndcg@2: 0.717657\tvalid_0's ndcg@3: 0.66851\tvalid_0's ndcg@4: 0.765061\tvalid_0's ndcg@5: 0.779163\n",
      "[49]\tvalid_0's ndcg@1: 0.417323\tvalid_0's ndcg@2: 0.561263\tvalid_0's ndcg@3: 0.638815\tvalid_0's ndcg@4: 0.736383\tvalid_0's ndcg@5: 0.767059\n",
      "[50]\tvalid_0's ndcg@1: 0.417323\tvalid_0's ndcg@2: 0.561263\tvalid_0's ndcg@3: 0.638815\tvalid_0's ndcg@4: 0.693781\tvalid_0's ndcg@5: 0.737186\n",
      "[51]\tvalid_0's ndcg@1: 0.343832\tvalid_0's ndcg@2: 0.540605\tvalid_0's ndcg@3: 0.623572\tvalid_0's ndcg@4: 0.676017\tvalid_0's ndcg@5: 0.719673\n",
      "[52]\tvalid_0's ndcg@1: 0.343832\tvalid_0's ndcg@2: 0.540605\tvalid_0's ndcg@3: 0.623572\tvalid_0's ndcg@4: 0.676017\tvalid_0's ndcg@5: 0.719673\n",
      "[53]\tvalid_0's ndcg@1: 0.417323\tvalid_0's ndcg@2: 0.561263\tvalid_0's ndcg@3: 0.693685\tvalid_0's ndcg@4: 0.746773\tvalid_0's ndcg@5: 0.749008\n",
      "[54]\tvalid_0's ndcg@1: 0.343832\tvalid_0's ndcg@2: 0.540605\tvalid_0's ndcg@3: 0.674784\tvalid_0's ndcg@4: 0.728519\tvalid_0's ndcg@5: 0.731013\n",
      "[55]\tvalid_0's ndcg@1: 0.343832\tvalid_0's ndcg@2: 0.540605\tvalid_0's ndcg@3: 0.619914\tvalid_0's ndcg@4: 0.718129\tvalid_0's ndcg@5: 0.723464\n",
      "[56]\tvalid_0's ndcg@1: 0.343832\tvalid_0's ndcg@2: 0.540605\tvalid_0's ndcg@3: 0.619914\tvalid_0's ndcg@4: 0.718129\tvalid_0's ndcg@5: 0.732895\n",
      "[57]\tvalid_0's ndcg@1: 0.343832\tvalid_0's ndcg@2: 0.540605\tvalid_0's ndcg@3: 0.619914\tvalid_0's ndcg@4: 0.718129\tvalid_0's ndcg@5: 0.732895\n",
      "Early stopping, best iteration is:\n",
      "[7]\tvalid_0's ndcg@1: 0.669291\tvalid_0's ndcg@2: 0.828843\tvalid_0's ndcg@3: 0.8434\tvalid_0's ndcg@4: 0.830503\tvalid_0's ndcg@5: 0.866584\n"
     ]
    },
    {
     "data": {
      "text/plain": [
       "LGBMRanker(max_depth=5)"
      ]
     },
     "execution_count": 13,
     "metadata": {},
     "output_type": "execute_result"
    }
   ],
   "source": [
    "gbm = lgb.LGBMRanker(max_depth=5)\n",
    "gbm.fit(sparse_train, y_train, group=train_group, \n",
    "        eval_set=[(sparse_val, y_val)], eval_group = [val_group],\n",
    "        early_stopping_rounds = 50)"
   ]
  },
  {
   "cell_type": "code",
   "execution_count": 14,
   "id": "tested-ireland",
   "metadata": {},
   "outputs": [],
   "source": [
    "val_pred=gbm.predict(sparse_val)"
   ]
  },
  {
   "cell_type": "code",
   "execution_count": 15,
   "id": "auburn-essence",
   "metadata": {},
   "outputs": [
    {
     "data": {
      "text/plain": [
       "57"
      ]
     },
     "execution_count": 15,
     "metadata": {},
     "output_type": "execute_result"
    }
   ],
   "source": [
    "len(gbm.evals_result_[\"valid_0\"][\"ndcg@1\"])"
   ]
  },
  {
   "cell_type": "code",
   "execution_count": 16,
   "id": "dressed-elephant",
   "metadata": {},
   "outputs": [],
   "source": [
    "X_val[\"pred\"] = val_pred\n"
   ]
  },
  {
   "cell_type": "code",
   "execution_count": 17,
   "id": "dried-timer",
   "metadata": {},
   "outputs": [
    {
     "data": {
      "text/plain": [
       "defaultdict(collections.OrderedDict,\n",
       "            {'valid_0': OrderedDict([('ndcg@1', 0.6692913385826772),\n",
       "                          ('ndcg@2', 0.828843122965223),\n",
       "                          ('ndcg@3', 0.8433997887810257),\n",
       "                          ('ndcg@4', 0.8305029187876253),\n",
       "                          ('ndcg@5', 0.8665840967086954)])})"
      ]
     },
     "execution_count": 17,
     "metadata": {},
     "output_type": "execute_result"
    }
   ],
   "source": [
    "gbm.best_score_"
   ]
  },
  {
   "cell_type": "code",
   "execution_count": 20,
   "id": "wanted-welding",
   "metadata": {},
   "outputs": [],
   "source": [
    "pickle.dump(analyze, open(\"../models/analyze.pickle\", \"wb\"))\n",
    "pickle.dump(gbm, open(\"../models/gbm.pickle\", \"wb\"))\n"
   ]
  }
 ],
 "metadata": {
  "kernelspec": {
   "display_name": "local-venv",
   "language": "python",
   "name": "local-venv"
  },
  "language_info": {
   "codemirror_mode": {
    "name": "ipython",
    "version": 3
   },
   "file_extension": ".py",
   "mimetype": "text/x-python",
   "name": "python",
   "nbconvert_exporter": "python",
   "pygments_lexer": "ipython3",
   "version": "3.9.2"
  }
 },
 "nbformat": 4,
 "nbformat_minor": 5
}
