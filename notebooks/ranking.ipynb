{
 "cells": [
  {
   "cell_type": "code",
   "execution_count": 1,
   "id": "common-tracker",
   "metadata": {},
   "outputs": [],
   "source": [
    "import os\n",
    "import lightgbm as lgb\n",
    "import json\n",
    "import pandas as pd\n",
    "import nltk\n",
    "from nltk.corpus import stopwords \n",
    "from nltk.stem import PorterStemmer\n",
    "from nltk.tokenize import word_tokenize \n",
    "from sklearn.feature_extraction.text import CountVectorizer as CV\n",
    "from sklearn.feature_extraction.text import TfidfVectorizer as TV\n",
    "from sklearn.model_selection import train_test_split\n",
    "import numpy as np\n",
    "import pickle\n",
    "np.random.seed(109)"
   ]
  },
  {
   "cell_type": "code",
   "execution_count": 2,
   "id": "occupied-paste",
   "metadata": {},
   "outputs": [
    {
     "data": {
      "text/plain": [
       "'C:\\\\Users\\\\tlebr\\\\Google Drive\\\\fdd\\\\dailynews\\\\cybernews\\\\notebooks'"
      ]
     },
     "execution_count": 2,
     "metadata": {},
     "output_type": "execute_result"
    }
   ],
   "source": [
    "os.getcwd()"
   ]
  },
  {
   "cell_type": "code",
   "execution_count": 30,
   "id": "complimentary-wheel",
   "metadata": {},
   "outputs": [],
   "source": [
    "os.chdir(r\"C:\\Users\\tlebr\\Google Drive\\fdd\\dailynews\\cybernews\")\n",
    "p16 = r\"data\\jsons\\2016.json\"\n",
    "p17 = r\"data\\jsons\\2017.json\"\n",
    "p18 = r\"data\\jsons\\2018.json\"\n",
    "p19 = r\"data\\jsons\\2019.json\"\n",
    "p20 = r\"data\\jsons\\2020.json\"\n",
    "pf = r\"data\\jsons\\Feb.json\"\n",
    "pmar = r\"data\\jsons\\March.json\"\n",
    "pa = r\"data\\jsons\\April.json\"\n",
    "pmay = r\"data\\jsons\\May.json\"\n",
    "\n",
    "js_ls = []\n",
    "for file in [p16, p17, p18, p19, p20, pf, pmar, pa, pmay]:\n",
    "    with open(file, encoding=\"utf-8\") as fp:\n",
    "        js = json.load(fp)\n",
    "        for el in js:\n",
    "            js_ls.append(el)\n",
    "df = pd.json_normalize(js_ls)"
   ]
  },
  {
   "cell_type": "code",
   "execution_count": 35,
   "id": "understood-latin",
   "metadata": {},
   "outputs": [],
   "source": [
    "df.ranking = abs(df.ranking - max(df.ranking)) + 1"
   ]
  },
  {
   "cell_type": "code",
   "execution_count": 36,
   "id": "adolescent-zimbabwe",
   "metadata": {},
   "outputs": [
    {
     "data": {
      "text/html": [
       "<div>\n",
       "<style scoped>\n",
       "    .dataframe tbody tr th:only-of-type {\n",
       "        vertical-align: middle;\n",
       "    }\n",
       "\n",
       "    .dataframe tbody tr th {\n",
       "        vertical-align: top;\n",
       "    }\n",
       "\n",
       "    .dataframe thead th {\n",
       "        text-align: right;\n",
       "    }\n",
       "</style>\n",
       "<table border=\"1\" class=\"dataframe\">\n",
       "  <thead>\n",
       "    <tr style=\"text-align: right;\">\n",
       "      <th></th>\n",
       "      <th>title</th>\n",
       "      <th>url</th>\n",
       "      <th>ranking</th>\n",
       "      <th>filename</th>\n",
       "      <th>body</th>\n",
       "      <th>date</th>\n",
       "      <th>source</th>\n",
       "      <th>author</th>\n",
       "    </tr>\n",
       "  </thead>\n",
       "  <tbody>\n",
       "    <tr>\n",
       "      <th>0</th>\n",
       "      <td>Second hacker group targets SWIFT users, Syman...</td>\n",
       "      <td>https://finance.yahoo.com/news/second-hacker-g...</td>\n",
       "      <td>15</td>\n",
       "      <td>Daily_Cyber_Briefing_October13.docx</td>\n",
       "      <td>Cyber-security firm Symantec Corp said on Tues...</td>\n",
       "      <td>2021-10-11 00:00:00</td>\n",
       "      <td>Reuters</td>\n",
       "      <td>[By Jim Finkle]</td>\n",
       "    </tr>\n",
       "    <tr>\n",
       "      <th>1</th>\n",
       "      <td>IAEA chief: Nuclear power plant was disrupted ...</td>\n",
       "      <td>http://www.reuters.com/article/us-nuclear-cybe...</td>\n",
       "      <td>14</td>\n",
       "      <td>Daily_Cyber_Briefing_October13.docx</td>\n",
       "      <td>A nuclear power plant became the target of a d...</td>\n",
       "      <td>2021-10-10 00:00:00</td>\n",
       "      <td>Reuters</td>\n",
       "      <td>[By Andrea Shalal]</td>\n",
       "    </tr>\n",
       "    <tr>\n",
       "      <th>2</th>\n",
       "      <td>How France's TV5 was almost destroyed by 'Russ...</td>\n",
       "      <td>http://www.bbc.com/news/technology-37590375</td>\n",
       "      <td>13</td>\n",
       "      <td>Daily_Cyber_Briefing_October13.docx</td>\n",
       "      <td>TV5Monde was taken off air in April 2015. A gr...</td>\n",
       "      <td>2021-10-10 00:00:00</td>\n",
       "      <td>BBC News</td>\n",
       "      <td>[By Gordon Corera]</td>\n",
       "    </tr>\n",
       "    <tr>\n",
       "      <th>3</th>\n",
       "      <td>Bureau of Meteorology hacked by foreign spies ...</td>\n",
       "      <td>http://www.abc.net.au/news/2016-10-12/bureau-o...</td>\n",
       "      <td>12</td>\n",
       "      <td>Daily_Cyber_Briefing_October13.docx</td>\n",
       "      <td>A foreign power managed to install malicious s...</td>\n",
       "      <td>2021-10-11 00:00:00</td>\n",
       "      <td>ABC (Australia)</td>\n",
       "      <td>[By Andrew Greene]</td>\n",
       "    </tr>\n",
       "    <tr>\n",
       "      <th>4</th>\n",
       "      <td>How to Win the Cyberwar Against Russia</td>\n",
       "      <td>https://foreignpolicy.com/2016/10/12/how-to-wi...</td>\n",
       "      <td>11</td>\n",
       "      <td>Daily_Cyber_Briefing_October13.docx</td>\n",
       "      <td>Vladimir Putin’s brazen attack on U.S. democra...</td>\n",
       "      <td>2021-10-12 00:00:00</td>\n",
       "      <td>Foreign Policy</td>\n",
       "      <td>[By ]</td>\n",
       "    </tr>\n",
       "  </tbody>\n",
       "</table>\n",
       "</div>"
      ],
      "text/plain": [
       "                                               title  \\\n",
       "0  Second hacker group targets SWIFT users, Syman...   \n",
       "1  IAEA chief: Nuclear power plant was disrupted ...   \n",
       "2  How France's TV5 was almost destroyed by 'Russ...   \n",
       "3  Bureau of Meteorology hacked by foreign spies ...   \n",
       "4             How to Win the Cyberwar Against Russia   \n",
       "\n",
       "                                                 url  ranking  \\\n",
       "0  https://finance.yahoo.com/news/second-hacker-g...       15   \n",
       "1  http://www.reuters.com/article/us-nuclear-cybe...       14   \n",
       "2        http://www.bbc.com/news/technology-37590375       13   \n",
       "3  http://www.abc.net.au/news/2016-10-12/bureau-o...       12   \n",
       "4  https://foreignpolicy.com/2016/10/12/how-to-wi...       11   \n",
       "\n",
       "                              filename  \\\n",
       "0  Daily_Cyber_Briefing_October13.docx   \n",
       "1  Daily_Cyber_Briefing_October13.docx   \n",
       "2  Daily_Cyber_Briefing_October13.docx   \n",
       "3  Daily_Cyber_Briefing_October13.docx   \n",
       "4  Daily_Cyber_Briefing_October13.docx   \n",
       "\n",
       "                                                body                 date  \\\n",
       "0  Cyber-security firm Symantec Corp said on Tues...  2021-10-11 00:00:00   \n",
       "1  A nuclear power plant became the target of a d...  2021-10-10 00:00:00   \n",
       "2  TV5Monde was taken off air in April 2015. A gr...  2021-10-10 00:00:00   \n",
       "3  A foreign power managed to install malicious s...  2021-10-11 00:00:00   \n",
       "4  Vladimir Putin’s brazen attack on U.S. democra...  2021-10-12 00:00:00   \n",
       "\n",
       "            source              author  \n",
       "0          Reuters     [By Jim Finkle]  \n",
       "1          Reuters  [By Andrea Shalal]  \n",
       "2         BBC News  [By Gordon Corera]  \n",
       "3  ABC (Australia)  [By Andrew Greene]  \n",
       "4   Foreign Policy               [By ]  "
      ]
     },
     "execution_count": 36,
     "metadata": {},
     "output_type": "execute_result"
    }
   ],
   "source": [
    "df.head()"
   ]
  },
  {
   "cell_type": "code",
   "execution_count": 37,
   "id": "editorial-consistency",
   "metadata": {},
   "outputs": [],
   "source": [
    "files = pd.unique(df[\"filename\"])\n",
    "np.random.shuffle(files)\n",
    "[train, val, test] = np.split(files, [int(.8 * len(files)), int(.9 * len(files))])\n"
   ]
  },
  {
   "cell_type": "code",
   "execution_count": 38,
   "id": "instant-acting",
   "metadata": {},
   "outputs": [],
   "source": [
    "def match(row):\n",
    "    if row.filename in train: \n",
    "        return \"train\"\n",
    "    if row.filename in val:\n",
    "        return \"validation\"\n",
    "    if row.filename in test:\n",
    "        return \"test\"\n",
    "        "
   ]
  },
  {
   "cell_type": "code",
   "execution_count": 39,
   "id": "coupled-dividend",
   "metadata": {},
   "outputs": [],
   "source": [
    "df[\"ttv\"] = df.apply(lambda row: match(row), axis=1)"
   ]
  },
  {
   "cell_type": "code",
   "execution_count": 40,
   "id": "sharp-dominican",
   "metadata": {},
   "outputs": [],
   "source": [
    "X_train = df[df['ttv'] == \"train\"]\n",
    "X_val = df[df['ttv'] == \"validation\"]\n",
    "X_test = df[df['ttv'] == \"test\"]\n",
    "X_train = X_train.sort_values(by=\"filename\")\n",
    "X_val = X_val.sort_values(by=\"filename\")\n",
    "X_test = X_test.sort_values(by=\"filename\")\n",
    "y_train = X_train[\"ranking\"]\n",
    "y_val = X_val[\"ranking\"]\n",
    "y_test = X_test[\"ranking\"]"
   ]
  },
  {
   "cell_type": "code",
   "execution_count": 41,
   "id": "measured-profile",
   "metadata": {},
   "outputs": [],
   "source": [
    "train_group=X_train.groupby(\"filename\").count()[\"title\"].tolist()\n",
    "val_group=X_val.groupby(\"filename\").count()[\"title\"].tolist()"
   ]
  },
  {
   "cell_type": "code",
   "execution_count": 42,
   "id": "gross-security",
   "metadata": {},
   "outputs": [],
   "source": [
    "stops = stopwords.words('english')\n",
    "analyze = CV(stop_words=stops, min_df = 15, max_df=.5)\n",
    "ps = PorterStemmer()\n",
    "def stop_removal(text : str): \n",
    "    toks=analyze(text)\n",
    "    return ' '.join([ps.stem(word) for word in toks if not ps.stem(word) in stops])"
   ]
  },
  {
   "cell_type": "code",
   "execution_count": 43,
   "id": "nutritional-cemetery",
   "metadata": {},
   "outputs": [],
   "source": [
    "analyze = TV(stop_words=stops, min_df = 15, max_df=.5)\n",
    "sparse_train = analyze.fit_transform(X_train[\"body\"]).astype('float32')\n",
    "sparse_val = analyze.transform(X_val[\"body\"]).astype('float32')"
   ]
  },
  {
   "cell_type": "code",
   "execution_count": 44,
   "id": "floral-flower",
   "metadata": {},
   "outputs": [
    {
     "name": "stdout",
     "output_type": "stream",
     "text": [
      "[1]\tvalid_0's ndcg@1: 0.338023\tvalid_0's ndcg@2: 0.371917\tvalid_0's ndcg@3: 0.413844\tvalid_0's ndcg@4: 0.4708\tvalid_0's ndcg@5: 0.539535\n",
      "Training until validation scores don't improve for 50 rounds\n",
      "[2]\tvalid_0's ndcg@1: 0.34138\tvalid_0's ndcg@2: 0.410667\tvalid_0's ndcg@3: 0.469095\tvalid_0's ndcg@4: 0.52491\tvalid_0's ndcg@5: 0.573799\n",
      "[3]\tvalid_0's ndcg@1: 0.376965\tvalid_0's ndcg@2: 0.446454\tvalid_0's ndcg@3: 0.492997\tvalid_0's ndcg@4: 0.539488\tvalid_0's ndcg@5: 0.575062\n",
      "[4]\tvalid_0's ndcg@1: 0.379681\tvalid_0's ndcg@2: 0.429111\tvalid_0's ndcg@3: 0.489304\tvalid_0's ndcg@4: 0.548753\tvalid_0's ndcg@5: 0.598384\n",
      "[5]\tvalid_0's ndcg@1: 0.413862\tvalid_0's ndcg@2: 0.45099\tvalid_0's ndcg@3: 0.516012\tvalid_0's ndcg@4: 0.561742\tvalid_0's ndcg@5: 0.612122\n",
      "[6]\tvalid_0's ndcg@1: 0.418195\tvalid_0's ndcg@2: 0.442755\tvalid_0's ndcg@3: 0.506967\tvalid_0's ndcg@4: 0.558823\tvalid_0's ndcg@5: 0.605114\n",
      "[7]\tvalid_0's ndcg@1: 0.435408\tvalid_0's ndcg@2: 0.454308\tvalid_0's ndcg@3: 0.521253\tvalid_0's ndcg@4: 0.566667\tvalid_0's ndcg@5: 0.610666\n",
      "[8]\tvalid_0's ndcg@1: 0.427595\tvalid_0's ndcg@2: 0.44798\tvalid_0's ndcg@3: 0.517135\tvalid_0's ndcg@4: 0.566545\tvalid_0's ndcg@5: 0.609187\n",
      "[9]\tvalid_0's ndcg@1: 0.392071\tvalid_0's ndcg@2: 0.449019\tvalid_0's ndcg@3: 0.514222\tvalid_0's ndcg@4: 0.562532\tvalid_0's ndcg@5: 0.607957\n",
      "[10]\tvalid_0's ndcg@1: 0.395306\tvalid_0's ndcg@2: 0.446299\tvalid_0's ndcg@3: 0.509611\tvalid_0's ndcg@4: 0.551963\tvalid_0's ndcg@5: 0.608132\n",
      "[11]\tvalid_0's ndcg@1: 0.400006\tvalid_0's ndcg@2: 0.452541\tvalid_0's ndcg@3: 0.501989\tvalid_0's ndcg@4: 0.560942\tvalid_0's ndcg@5: 0.610865\n",
      "[12]\tvalid_0's ndcg@1: 0.429853\tvalid_0's ndcg@2: 0.457687\tvalid_0's ndcg@3: 0.514969\tvalid_0's ndcg@4: 0.579654\tvalid_0's ndcg@5: 0.622\n",
      "[13]\tvalid_0's ndcg@1: 0.441328\tvalid_0's ndcg@2: 0.468138\tvalid_0's ndcg@3: 0.525254\tvalid_0's ndcg@4: 0.583426\tvalid_0's ndcg@5: 0.636839\n",
      "[14]\tvalid_0's ndcg@1: 0.456465\tvalid_0's ndcg@2: 0.476751\tvalid_0's ndcg@3: 0.537621\tvalid_0's ndcg@4: 0.579429\tvalid_0's ndcg@5: 0.633819\n",
      "[15]\tvalid_0's ndcg@1: 0.418378\tvalid_0's ndcg@2: 0.462168\tvalid_0's ndcg@3: 0.525315\tvalid_0's ndcg@4: 0.577414\tvalid_0's ndcg@5: 0.620198\n",
      "[16]\tvalid_0's ndcg@1: 0.39787\tvalid_0's ndcg@2: 0.457236\tvalid_0's ndcg@3: 0.525014\tvalid_0's ndcg@4: 0.571447\tvalid_0's ndcg@5: 0.620334\n",
      "[17]\tvalid_0's ndcg@1: 0.410077\tvalid_0's ndcg@2: 0.46397\tvalid_0's ndcg@3: 0.528172\tvalid_0's ndcg@4: 0.563892\tvalid_0's ndcg@5: 0.619393\n",
      "[18]\tvalid_0's ndcg@1: 0.410077\tvalid_0's ndcg@2: 0.464216\tvalid_0's ndcg@3: 0.521771\tvalid_0's ndcg@4: 0.562904\tvalid_0's ndcg@5: 0.616575\n",
      "[19]\tvalid_0's ndcg@1: 0.39494\tvalid_0's ndcg@2: 0.476408\tvalid_0's ndcg@3: 0.516854\tvalid_0's ndcg@4: 0.567148\tvalid_0's ndcg@5: 0.61973\n",
      "[20]\tvalid_0's ndcg@1: 0.410566\tvalid_0's ndcg@2: 0.48822\tvalid_0's ndcg@3: 0.520645\tvalid_0's ndcg@4: 0.577646\tvalid_0's ndcg@5: 0.624818\n",
      "[21]\tvalid_0's ndcg@1: 0.437422\tvalid_0's ndcg@2: 0.487369\tvalid_0's ndcg@3: 0.528707\tvalid_0's ndcg@4: 0.583137\tvalid_0's ndcg@5: 0.627181\n",
      "[22]\tvalid_0's ndcg@1: 0.42082\tvalid_0's ndcg@2: 0.493227\tvalid_0's ndcg@3: 0.534432\tvalid_0's ndcg@4: 0.585507\tvalid_0's ndcg@5: 0.629692\n",
      "[23]\tvalid_0's ndcg@1: 0.454756\tvalid_0's ndcg@2: 0.504985\tvalid_0's ndcg@3: 0.546925\tvalid_0's ndcg@4: 0.595881\tvalid_0's ndcg@5: 0.645824\n",
      "[24]\tvalid_0's ndcg@1: 0.462081\tvalid_0's ndcg@2: 0.510383\tvalid_0's ndcg@3: 0.553383\tvalid_0's ndcg@4: 0.598739\tvalid_0's ndcg@5: 0.638429\n",
      "[25]\tvalid_0's ndcg@1: 0.462081\tvalid_0's ndcg@2: 0.510383\tvalid_0's ndcg@3: 0.550036\tvalid_0's ndcg@4: 0.598318\tvalid_0's ndcg@5: 0.638014\n",
      "[26]\tvalid_0's ndcg@1: 0.457686\tvalid_0's ndcg@2: 0.503525\tvalid_0's ndcg@3: 0.537237\tvalid_0's ndcg@4: 0.59015\tvalid_0's ndcg@5: 0.633249\n",
      "[27]\tvalid_0's ndcg@1: 0.449873\tvalid_0's ndcg@2: 0.501337\tvalid_0's ndcg@3: 0.541184\tvalid_0's ndcg@4: 0.595853\tvalid_0's ndcg@5: 0.635322\n",
      "[28]\tvalid_0's ndcg@1: 0.461592\tvalid_0's ndcg@2: 0.509593\tvalid_0's ndcg@3: 0.547087\tvalid_0's ndcg@4: 0.596571\tvalid_0's ndcg@5: 0.633488\n",
      "[29]\tvalid_0's ndcg@1: 0.439619\tvalid_0's ndcg@2: 0.487273\tvalid_0's ndcg@3: 0.537529\tvalid_0's ndcg@4: 0.585419\tvalid_0's ndcg@5: 0.624167\n",
      "[30]\tvalid_0's ndcg@1: 0.440107\tvalid_0's ndcg@2: 0.490234\tvalid_0's ndcg@3: 0.539453\tvalid_0's ndcg@4: 0.588253\tvalid_0's ndcg@5: 0.632793\n",
      "[31]\tvalid_0's ndcg@1: 0.426435\tvalid_0's ndcg@2: 0.489209\tvalid_0's ndcg@3: 0.540932\tvalid_0's ndcg@4: 0.588616\tvalid_0's ndcg@5: 0.631443\n",
      "[32]\tvalid_0's ndcg@1: 0.435224\tvalid_0's ndcg@2: 0.490087\tvalid_0's ndcg@3: 0.53929\tvalid_0's ndcg@4: 0.589867\tvalid_0's ndcg@5: 0.629272\n",
      "[33]\tvalid_0's ndcg@1: 0.435224\tvalid_0's ndcg@2: 0.490087\tvalid_0's ndcg@3: 0.53929\tvalid_0's ndcg@4: 0.587835\tvalid_0's ndcg@5: 0.628408\n",
      "[34]\tvalid_0's ndcg@1: 0.446944\tvalid_0's ndcg@2: 0.498879\tvalid_0's ndcg@3: 0.542889\tvalid_0's ndcg@4: 0.590886\tvalid_0's ndcg@5: 0.636071\n",
      "[35]\tvalid_0's ndcg@1: 0.422285\tvalid_0's ndcg@2: 0.488682\tvalid_0's ndcg@3: 0.534577\tvalid_0's ndcg@4: 0.578736\tvalid_0's ndcg@5: 0.628295\n",
      "[36]\tvalid_0's ndcg@1: 0.434004\tvalid_0's ndcg@2: 0.491735\tvalid_0's ndcg@3: 0.537556\tvalid_0's ndcg@4: 0.579535\tvalid_0's ndcg@5: 0.630184\n",
      "[37]\tvalid_0's ndcg@1: 0.418867\tvalid_0's ndcg@2: 0.490511\tvalid_0's ndcg@3: 0.526785\tvalid_0's ndcg@4: 0.574124\tvalid_0's ndcg@5: 0.625827\n",
      "[38]\tvalid_0's ndcg@1: 0.426679\tvalid_0's ndcg@2: 0.491752\tvalid_0's ndcg@3: 0.539394\tvalid_0's ndcg@4: 0.576418\tvalid_0's ndcg@5: 0.626787\n",
      "[39]\tvalid_0's ndcg@1: 0.449141\tvalid_0's ndcg@2: 0.508858\tvalid_0's ndcg@3: 0.562818\tvalid_0's ndcg@4: 0.586477\tvalid_0's ndcg@5: 0.634144\n",
      "[40]\tvalid_0's ndcg@1: 0.449141\tvalid_0's ndcg@2: 0.510369\tvalid_0's ndcg@3: 0.54541\tvalid_0's ndcg@4: 0.579132\tvalid_0's ndcg@5: 0.629167\n",
      "[41]\tvalid_0's ndcg@1: 0.448164\tvalid_0's ndcg@2: 0.512977\tvalid_0's ndcg@3: 0.552154\tvalid_0's ndcg@4: 0.584503\tvalid_0's ndcg@5: 0.634701\n",
      "[42]\tvalid_0's ndcg@1: 0.455245\tvalid_0's ndcg@2: 0.511919\tvalid_0's ndcg@3: 0.561866\tvalid_0's ndcg@4: 0.590972\tvalid_0's ndcg@5: 0.638984\n",
      "[43]\tvalid_0's ndcg@1: 0.470382\tvalid_0's ndcg@2: 0.515533\tvalid_0's ndcg@3: 0.564281\tvalid_0's ndcg@4: 0.592061\tvalid_0's ndcg@5: 0.64388\n",
      "[44]\tvalid_0's ndcg@1: 0.468429\tvalid_0's ndcg@2: 0.511558\tvalid_0's ndcg@3: 0.55601\tvalid_0's ndcg@4: 0.593493\tvalid_0's ndcg@5: 0.648274\n",
      "[45]\tvalid_0's ndcg@1: 0.453291\tvalid_0's ndcg@2: 0.515914\tvalid_0's ndcg@3: 0.55966\tvalid_0's ndcg@4: 0.592412\tvalid_0's ndcg@5: 0.649068\n",
      "[46]\tvalid_0's ndcg@1: 0.453291\tvalid_0's ndcg@2: 0.517062\tvalid_0's ndcg@3: 0.563605\tvalid_0's ndcg@4: 0.592847\tvalid_0's ndcg@5: 0.641981\n",
      "[47]\tvalid_0's ndcg@1: 0.453291\tvalid_0's ndcg@2: 0.517754\tvalid_0's ndcg@3: 0.56084\tvalid_0's ndcg@4: 0.598008\tvalid_0's ndcg@5: 0.6442\n",
      "[48]\tvalid_0's ndcg@1: 0.453291\tvalid_0's ndcg@2: 0.517754\tvalid_0's ndcg@3: 0.560153\tvalid_0's ndcg@4: 0.596398\tvalid_0's ndcg@5: 0.641125\n",
      "[49]\tvalid_0's ndcg@1: 0.453291\tvalid_0's ndcg@2: 0.523099\tvalid_0's ndcg@3: 0.555706\tvalid_0's ndcg@4: 0.59068\tvalid_0's ndcg@5: 0.637507\n",
      "[50]\tvalid_0's ndcg@1: 0.453291\tvalid_0's ndcg@2: 0.519367\tvalid_0's ndcg@3: 0.550423\tvalid_0's ndcg@4: 0.581365\tvalid_0's ndcg@5: 0.63196\n",
      "[51]\tvalid_0's ndcg@1: 0.471847\tvalid_0's ndcg@2: 0.522699\tvalid_0's ndcg@3: 0.556135\tvalid_0's ndcg@4: 0.585781\tvalid_0's ndcg@5: 0.636804\n",
      "[52]\tvalid_0's ndcg@1: 0.471847\tvalid_0's ndcg@2: 0.522699\tvalid_0's ndcg@3: 0.553678\tvalid_0's ndcg@4: 0.597152\tvalid_0's ndcg@5: 0.639284\n",
      "[53]\tvalid_0's ndcg@1: 0.486251\tvalid_0's ndcg@2: 0.531522\tvalid_0's ndcg@3: 0.561597\tvalid_0's ndcg@4: 0.605596\tvalid_0's ndcg@5: 0.643064\n",
      "[54]\tvalid_0's ndcg@1: 0.459151\tvalid_0's ndcg@2: 0.524555\tvalid_0's ndcg@3: 0.551601\tvalid_0's ndcg@4: 0.593265\tvalid_0's ndcg@5: 0.63735\n",
      "[55]\tvalid_0's ndcg@1: 0.473678\tvalid_0's ndcg@2: 0.513485\tvalid_0's ndcg@3: 0.559112\tvalid_0's ndcg@4: 0.596129\tvalid_0's ndcg@5: 0.641684\n",
      "[56]\tvalid_0's ndcg@1: 0.473678\tvalid_0's ndcg@2: 0.513485\tvalid_0's ndcg@3: 0.559112\tvalid_0's ndcg@4: 0.603388\tvalid_0's ndcg@5: 0.644384\n",
      "[57]\tvalid_0's ndcg@1: 0.473678\tvalid_0's ndcg@2: 0.512665\tvalid_0's ndcg@3: 0.560228\tvalid_0's ndcg@4: 0.601297\tvalid_0's ndcg@5: 0.644795\n",
      "[58]\tvalid_0's ndcg@1: 0.47734\tvalid_0's ndcg@2: 0.509692\tvalid_0's ndcg@3: 0.554553\tvalid_0's ndcg@4: 0.600448\tvalid_0's ndcg@5: 0.641599\n",
      "[59]\tvalid_0's ndcg@1: 0.47734\tvalid_0's ndcg@2: 0.512714\tvalid_0's ndcg@3: 0.552385\tvalid_0's ndcg@4: 0.600538\tvalid_0's ndcg@5: 0.639839\n",
      "[60]\tvalid_0's ndcg@1: 0.469039\tvalid_0's ndcg@2: 0.510464\tvalid_0's ndcg@3: 0.545531\tvalid_0's ndcg@4: 0.59663\tvalid_0's ndcg@5: 0.641224\n",
      "[61]\tvalid_0's ndcg@1: 0.478195\tvalid_0's ndcg@2: 0.513032\tvalid_0's ndcg@3: 0.545021\tvalid_0's ndcg@4: 0.600642\tvalid_0's ndcg@5: 0.645327\n",
      "[62]\tvalid_0's ndcg@1: 0.466475\tvalid_0's ndcg@2: 0.516068\tvalid_0's ndcg@3: 0.544075\tvalid_0's ndcg@4: 0.599052\tvalid_0's ndcg@5: 0.632435\n",
      "[63]\tvalid_0's ndcg@1: 0.452803\tvalid_0's ndcg@2: 0.503967\tvalid_0's ndcg@3: 0.537284\tvalid_0's ndcg@4: 0.593537\tvalid_0's ndcg@5: 0.630072\n",
      "[64]\tvalid_0's ndcg@1: 0.439131\tvalid_0's ndcg@2: 0.490353\tvalid_0's ndcg@3: 0.537012\tvalid_0's ndcg@4: 0.588469\tvalid_0's ndcg@5: 0.619044\n",
      "[65]\tvalid_0's ndcg@1: 0.431074\tvalid_0's ndcg@2: 0.496695\tvalid_0's ndcg@3: 0.543899\tvalid_0's ndcg@4: 0.588395\tvalid_0's ndcg@5: 0.622632\n",
      "[66]\tvalid_0's ndcg@1: 0.431074\tvalid_0's ndcg@2: 0.498583\tvalid_0's ndcg@3: 0.548833\tvalid_0's ndcg@4: 0.589\tvalid_0's ndcg@5: 0.62727\n",
      "[67]\tvalid_0's ndcg@1: 0.431074\tvalid_0's ndcg@2: 0.502315\tvalid_0's ndcg@3: 0.54954\tvalid_0's ndcg@4: 0.589946\tvalid_0's ndcg@5: 0.631463\n",
      "[68]\tvalid_0's ndcg@1: 0.431074\tvalid_0's ndcg@2: 0.505338\tvalid_0's ndcg@3: 0.554453\tvalid_0's ndcg@4: 0.589655\tvalid_0's ndcg@5: 0.629376\n",
      "[69]\tvalid_0's ndcg@1: 0.429609\tvalid_0's ndcg@2: 0.505006\tvalid_0's ndcg@3: 0.553882\tvalid_0's ndcg@4: 0.589231\tvalid_0's ndcg@5: 0.623671\n",
      "[70]\tvalid_0's ndcg@1: 0.458663\tvalid_0's ndcg@2: 0.522738\tvalid_0's ndcg@3: 0.564347\tvalid_0's ndcg@4: 0.600226\tvalid_0's ndcg@5: 0.636467\n",
      "[71]\tvalid_0's ndcg@1: 0.458663\tvalid_0's ndcg@2: 0.522738\tvalid_0's ndcg@3: 0.561677\tvalid_0's ndcg@4: 0.594313\tvalid_0's ndcg@5: 0.630632\n",
      "[72]\tvalid_0's ndcg@1: 0.458663\tvalid_0's ndcg@2: 0.52344\tvalid_0's ndcg@3: 0.559268\tvalid_0's ndcg@4: 0.59857\tvalid_0's ndcg@5: 0.63217\n",
      "[73]\tvalid_0's ndcg@1: 0.44499\tvalid_0's ndcg@2: 0.518902\tvalid_0's ndcg@3: 0.55292\tvalid_0's ndcg@4: 0.592328\tvalid_0's ndcg@5: 0.623303\n",
      "[74]\tvalid_0's ndcg@1: 0.44499\tvalid_0's ndcg@2: 0.518902\tvalid_0's ndcg@3: 0.552581\tvalid_0's ndcg@4: 0.591078\tvalid_0's ndcg@5: 0.627099\n",
      "[75]\tvalid_0's ndcg@1: 0.446699\tvalid_0's ndcg@2: 0.508148\tvalid_0's ndcg@3: 0.550203\tvalid_0's ndcg@4: 0.589279\tvalid_0's ndcg@5: 0.626859\n",
      "[76]\tvalid_0's ndcg@1: 0.446699\tvalid_0's ndcg@2: 0.51117\tvalid_0's ndcg@3: 0.5517\tvalid_0's ndcg@4: 0.59151\tvalid_0's ndcg@5: 0.629754\n",
      "[77]\tvalid_0's ndcg@1: 0.446699\tvalid_0's ndcg@2: 0.511673\tvalid_0's ndcg@3: 0.548814\tvalid_0's ndcg@4: 0.588544\tvalid_0's ndcg@5: 0.62513\n",
      "[78]\tvalid_0's ndcg@1: 0.446699\tvalid_0's ndcg@2: 0.5144\tvalid_0's ndcg@3: 0.550225\tvalid_0's ndcg@4: 0.588434\tvalid_0's ndcg@5: 0.624871\n",
      "[79]\tvalid_0's ndcg@1: 0.448653\tvalid_0's ndcg@2: 0.515795\tvalid_0's ndcg@3: 0.5564\tvalid_0's ndcg@4: 0.592941\tvalid_0's ndcg@5: 0.627782\n",
      "[80]\tvalid_0's ndcg@1: 0.461348\tvalid_0's ndcg@2: 0.516228\tvalid_0's ndcg@3: 0.560162\tvalid_0's ndcg@4: 0.59779\tvalid_0's ndcg@5: 0.63094\n",
      "[81]\tvalid_0's ndcg@1: 0.447676\tvalid_0's ndcg@2: 0.505121\tvalid_0's ndcg@3: 0.5447\tvalid_0's ndcg@4: 0.589384\tvalid_0's ndcg@5: 0.629839\n",
      "[82]\tvalid_0's ndcg@1: 0.435957\tvalid_0's ndcg@2: 0.505317\tvalid_0's ndcg@3: 0.542505\tvalid_0's ndcg@4: 0.585853\tvalid_0's ndcg@5: 0.626081\n",
      "[83]\tvalid_0's ndcg@1: 0.435957\tvalid_0's ndcg@2: 0.505317\tvalid_0's ndcg@3: 0.537581\tvalid_0's ndcg@4: 0.583363\tvalid_0's ndcg@5: 0.620845\n",
      "[84]\tvalid_0's ndcg@1: 0.435957\tvalid_0's ndcg@2: 0.516558\tvalid_0's ndcg@3: 0.545643\tvalid_0's ndcg@4: 0.589446\tvalid_0's ndcg@5: 0.621917\n",
      "[85]\tvalid_0's ndcg@1: 0.435957\tvalid_0's ndcg@2: 0.50438\tvalid_0's ndcg@3: 0.544522\tvalid_0's ndcg@4: 0.591444\tvalid_0's ndcg@5: 0.626044\n",
      "[86]\tvalid_0's ndcg@1: 0.456954\tvalid_0's ndcg@2: 0.511593\tvalid_0's ndcg@3: 0.55014\tvalid_0's ndcg@4: 0.596843\tvalid_0's ndcg@5: 0.632331\n",
      "[87]\tvalid_0's ndcg@1: 0.443281\tvalid_0's ndcg@2: 0.507757\tvalid_0's ndcg@3: 0.545281\tvalid_0's ndcg@4: 0.593464\tvalid_0's ndcg@5: 0.628866\n",
      "[88]\tvalid_0's ndcg@1: 0.443281\tvalid_0's ndcg@2: 0.500881\tvalid_0's ndcg@3: 0.544631\tvalid_0's ndcg@4: 0.595388\tvalid_0's ndcg@5: 0.628579\n",
      "[89]\tvalid_0's ndcg@1: 0.443281\tvalid_0's ndcg@2: 0.506646\tvalid_0's ndcg@3: 0.547786\tvalid_0's ndcg@4: 0.602542\tvalid_0's ndcg@5: 0.630251\n",
      "[90]\tvalid_0's ndcg@1: 0.458846\tvalid_0's ndcg@2: 0.511013\tvalid_0's ndcg@3: 0.548927\tvalid_0's ndcg@4: 0.605841\tvalid_0's ndcg@5: 0.637119\n",
      "[91]\tvalid_0's ndcg@1: 0.458846\tvalid_0's ndcg@2: 0.507299\tvalid_0's ndcg@3: 0.538574\tvalid_0's ndcg@4: 0.602102\tvalid_0's ndcg@5: 0.635694\n",
      "[92]\tvalid_0's ndcg@1: 0.465682\tvalid_0's ndcg@2: 0.507724\tvalid_0's ndcg@3: 0.549964\tvalid_0's ndcg@4: 0.602576\tvalid_0's ndcg@5: 0.639325\n",
      "[93]\tvalid_0's ndcg@1: 0.465682\tvalid_0's ndcg@2: 0.504209\tvalid_0's ndcg@3: 0.547942\tvalid_0's ndcg@4: 0.600064\tvalid_0's ndcg@5: 0.63597\n",
      "[94]\tvalid_0's ndcg@1: 0.479354\tvalid_0's ndcg@2: 0.501623\tvalid_0's ndcg@3: 0.544555\tvalid_0's ndcg@4: 0.604136\tvalid_0's ndcg@5: 0.636357\n",
      "[95]\tvalid_0's ndcg@1: 0.480819\tvalid_0's ndcg@2: 0.502034\tvalid_0's ndcg@3: 0.547822\tvalid_0's ndcg@4: 0.605929\tvalid_0's ndcg@5: 0.637482\n",
      "Early stopping, best iteration is:\n",
      "[45]\tvalid_0's ndcg@1: 0.453291\tvalid_0's ndcg@2: 0.515914\tvalid_0's ndcg@3: 0.55966\tvalid_0's ndcg@4: 0.592412\tvalid_0's ndcg@5: 0.649068\n"
     ]
    },
    {
     "data": {
      "text/plain": [
       "LGBMRanker(max_depth=5)"
      ]
     },
     "execution_count": 44,
     "metadata": {},
     "output_type": "execute_result"
    }
   ],
   "source": [
    "gbm = lgb.LGBMRanker(max_depth=5)\n",
    "gbm.fit(sparse_train, y_train, group=train_group, \n",
    "        eval_set=[(sparse_val, y_val)], eval_group = [val_group],\n",
    "        early_stopping_rounds = 50)"
   ]
  },
  {
   "cell_type": "code",
   "execution_count": 45,
   "id": "extreme-extension",
   "metadata": {},
   "outputs": [],
   "source": [
    "val_pred=gbm.predict(sparse_val)"
   ]
  },
  {
   "cell_type": "code",
   "execution_count": 46,
   "id": "finished-cross",
   "metadata": {},
   "outputs": [
    {
     "data": {
      "text/plain": [
       "95"
      ]
     },
     "execution_count": 46,
     "metadata": {},
     "output_type": "execute_result"
    }
   ],
   "source": [
    "len(gbm.evals_result_[\"valid_0\"][\"ndcg@1\"])"
   ]
  },
  {
   "cell_type": "code",
   "execution_count": 47,
   "id": "improving-grill",
   "metadata": {},
   "outputs": [],
   "source": [
    "X_val[\"pred\"] = val_pred\n"
   ]
  },
  {
   "cell_type": "code",
   "execution_count": 48,
   "id": "initial-margin",
   "metadata": {},
   "outputs": [
    {
     "data": {
      "text/plain": [
       "defaultdict(collections.OrderedDict,\n",
       "            {'valid_0': OrderedDict([('ndcg@1', 0.4532914212469863),\n",
       "                          ('ndcg@2', 0.5159141609060663),\n",
       "                          ('ndcg@3', 0.5596603702170255),\n",
       "                          ('ndcg@4', 0.5924122315259691),\n",
       "                          ('ndcg@5', 0.649068281599732)])})"
      ]
     },
     "execution_count": 48,
     "metadata": {},
     "output_type": "execute_result"
    }
   ],
   "source": [
    "gbm.best_score_"
   ]
  },
  {
   "cell_type": "code",
   "execution_count": 49,
   "id": "upset-murray",
   "metadata": {},
   "outputs": [],
   "source": [
    "pickle.dump(analyze, open(\"models/analyze2.pickle\", \"wb\"))\n",
    "pickle.dump(gbm, open(\"models/gbm2.pickle\", \"wb\"))\n"
   ]
  },
  {
   "cell_type": "code",
   "execution_count": null,
   "id": "double-words",
   "metadata": {},
   "outputs": [],
   "source": []
  }
 ],
 "metadata": {
  "kernelspec": {
   "display_name": "local-venv",
   "language": "python",
   "name": "local-venv"
  },
  "language_info": {
   "codemirror_mode": {
    "name": "ipython",
    "version": 3
   },
   "file_extension": ".py",
   "mimetype": "text/x-python",
   "name": "python",
   "nbconvert_exporter": "python",
   "pygments_lexer": "ipython3",
   "version": "3.9.2"
  }
 },
 "nbformat": 4,
 "nbformat_minor": 5
}
