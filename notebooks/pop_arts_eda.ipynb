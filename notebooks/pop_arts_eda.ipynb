{
 "cells": [
  {
   "cell_type": "code",
   "execution_count": 1,
   "id": "instructional-choir",
   "metadata": {},
   "outputs": [],
   "source": [
    "import pandas as pd\n",
    "\n"
   ]
  },
  {
   "cell_type": "code",
   "execution_count": 2,
   "id": "extensive-thesaurus",
   "metadata": {},
   "outputs": [],
   "source": [
    "path = r\"C:\\Users\\tlebr\\Google Drive\\fdd\\dailynews\\cybernews\\data\\old_arts\\Briefing spreadsheet (2).xlsx\""
   ]
  },
  {
   "cell_type": "code",
   "execution_count": 3,
   "id": "proprietary-trainer",
   "metadata": {},
   "outputs": [],
   "source": [
    "df = pd.read_excel(path)"
   ]
  },
  {
   "cell_type": "code",
   "execution_count": 10,
   "id": "fabulous-terry",
   "metadata": {},
   "outputs": [
    {
     "data": {
      "text/plain": [
       "Reuters                                                                169\n",
       "The Wall Street Journal                                                 98\n",
       "Financial Times                                                         71\n",
       "United States Department of the Treasury                                65\n",
       "The New York Times                                                      27\n",
       "Cointelegraph                                                           27\n",
       "Organized Crime and Corruption Reporting Project                        26\n",
       "Bloomberg                                                               24\n",
       "CoinDesk                                                                21\n",
       "United States Department of Justice                                     18\n",
       "Coindesk                                                                17\n",
       "The Washington Post                                                     15\n",
       "Bloomberg News                                                          14\n",
       "KYC360                                                                  12\n",
       "Associated Press                                                        10\n",
       "CNN                                                                      4\n",
       "Forbes                                                                   4\n",
       "Coin Telegraph                                                           3\n",
       "Foreign Affairs                                                          3\n",
       "Axios                                                                    3\n",
       "Coin Desk                                                                2\n",
       "CNBC                                                                     2\n",
       "Foreign Policy                                                           2\n",
       "International Consortium of Investigative Journalists                    2\n",
       "BBC News                                                                 2\n",
       "The Guardian                                                             2\n",
       "The Financial Times                                                      2\n",
       "United States Department of State                                        1\n",
       "Politico                                                                 1\n",
       "Wall Street Journal                                                      1\n",
       "bne IntelliNews                                                          1\n",
       "Buzzfeed News                                                            1\n",
       "AP News                                                                  1\n",
       "Office of the Comptroller of the Currency                                1\n",
       "The Verge                                                                1\n",
       "Decrypt                                                                  1\n",
       "The New Yorker                                                           1\n",
       "The Tribune                                                              1\n",
       "TechCrunch                                                               1\n",
       "The National Interest                                                    1\n",
       "Miami Herald                                                             1\n",
       "Japan Today                                                              1\n",
       "The Times                                                                1\n",
       "NPR                                                                      1\n",
       "Balkan Insight                                                           1\n",
       "NGO: Chinese Banks Must Stop Laundering Wildlife Traffickers’ Money      1\n",
       "Computer Weekly                                                          1\n",
       "Nikkei Asia                                                              1\n",
       "Washington Post                                                          1\n",
       "The Washington Times                                                     1\n",
       "USA Today                                                                1\n",
       "Times of Malta                                                           1\n",
       "Fox News                                                                 1\n",
       "South China Morning Post                                                 1\n",
       "CBS 2 Chicago                                                            1\n",
       "Daily Beast                                                              1\n",
       "United States Department of The Treasury                                 1\n",
       "Name: Source, dtype: int64"
      ]
     },
     "execution_count": 10,
     "metadata": {},
     "output_type": "execute_result"
    }
   ],
   "source": [
    "df.Source.value_counts()"
   ]
  },
  {
   "cell_type": "code",
   "execution_count": 11,
   "id": "compatible-psychiatry",
   "metadata": {},
   "outputs": [],
   "source": [
    "path2 = r\"C:\\Users\\tlebr\\Google Drive\\fdd\\dailynews\\cybernews\\data\\old_arts\\Machine Learning Tool 1 (1).xlsx\"\n",
    "df2 = pd.read_excel(path2)"
   ]
  },
  {
   "cell_type": "code",
   "execution_count": 28,
   "id": "premium-letter",
   "metadata": {},
   "outputs": [
    {
     "ename": "PermissionError",
     "evalue": "[Errno 13] Permission denied: 'C:\\\\Users\\\\tlebr\\\\Google Drive\\\\fdd\\\\dailynews\\\\cybernews\\\\data\\\\old_arts\\\\mideast_top_sources.csv'",
     "output_type": "error",
     "traceback": [
      "\u001b[1;31m---------------------------------------------------------------------------\u001b[0m",
      "\u001b[1;31mPermissionError\u001b[0m                           Traceback (most recent call last)",
      "\u001b[1;32m<ipython-input-28-345a2db96eff>\u001b[0m in \u001b[0;36m<module>\u001b[1;34m\u001b[0m\n\u001b[1;32m----> 1\u001b[1;33m \u001b[0mlist\u001b[0m\u001b[1;33m(\u001b[0m\u001b[0mdf2\u001b[0m\u001b[1;33m.\u001b[0m\u001b[0mSource\u001b[0m\u001b[1;33m.\u001b[0m\u001b[0mstr\u001b[0m\u001b[1;33m.\u001b[0m\u001b[0mlower\u001b[0m\u001b[1;33m(\u001b[0m\u001b[1;33m)\u001b[0m\u001b[1;33m.\u001b[0m\u001b[0mstr\u001b[0m\u001b[1;33m.\u001b[0m\u001b[0mstrip\u001b[0m\u001b[1;33m(\u001b[0m\u001b[1;33m)\u001b[0m\u001b[1;33m.\u001b[0m\u001b[0mvalue_counts\u001b[0m\u001b[1;33m(\u001b[0m\u001b[1;33m)\u001b[0m\u001b[1;33m.\u001b[0m\u001b[0mto_csv\u001b[0m\u001b[1;33m(\u001b[0m\u001b[1;34mr\"C:\\Users\\tlebr\\Google Drive\\fdd\\dailynews\\cybernews\\data\\old_arts\\mideast_top_sources.csv\"\u001b[0m\u001b[1;33m)\u001b[0m\u001b[1;33m)\u001b[0m\u001b[1;33m\u001b[0m\u001b[1;33m\u001b[0m\u001b[0m\n\u001b[0m",
      "\u001b[1;32m~\\Envs\\openrice\\lib\\site-packages\\pandas\\core\\generic.py\u001b[0m in \u001b[0;36mto_csv\u001b[1;34m(self, path_or_buf, sep, na_rep, float_format, columns, header, index, index_label, mode, encoding, compression, quoting, quotechar, line_terminator, chunksize, date_format, doublequote, escapechar, decimal, errors, storage_options)\u001b[0m\n\u001b[0;32m   3385\u001b[0m         )\n\u001b[0;32m   3386\u001b[0m \u001b[1;33m\u001b[0m\u001b[0m\n\u001b[1;32m-> 3387\u001b[1;33m         return DataFrameRenderer(formatter).to_csv(\n\u001b[0m\u001b[0;32m   3388\u001b[0m             \u001b[0mpath_or_buf\u001b[0m\u001b[1;33m,\u001b[0m\u001b[1;33m\u001b[0m\u001b[1;33m\u001b[0m\u001b[0m\n\u001b[0;32m   3389\u001b[0m             \u001b[0mline_terminator\u001b[0m\u001b[1;33m=\u001b[0m\u001b[0mline_terminator\u001b[0m\u001b[1;33m,\u001b[0m\u001b[1;33m\u001b[0m\u001b[1;33m\u001b[0m\u001b[0m\n",
      "\u001b[1;32m~\\Envs\\openrice\\lib\\site-packages\\pandas\\io\\formats\\format.py\u001b[0m in \u001b[0;36mto_csv\u001b[1;34m(self, path_or_buf, encoding, sep, columns, index_label, mode, compression, quoting, quotechar, line_terminator, chunksize, date_format, doublequote, escapechar, errors, storage_options)\u001b[0m\n\u001b[0;32m   1081\u001b[0m             \u001b[0mformatter\u001b[0m\u001b[1;33m=\u001b[0m\u001b[0mself\u001b[0m\u001b[1;33m.\u001b[0m\u001b[0mfmt\u001b[0m\u001b[1;33m,\u001b[0m\u001b[1;33m\u001b[0m\u001b[1;33m\u001b[0m\u001b[0m\n\u001b[0;32m   1082\u001b[0m         )\n\u001b[1;32m-> 1083\u001b[1;33m         \u001b[0mcsv_formatter\u001b[0m\u001b[1;33m.\u001b[0m\u001b[0msave\u001b[0m\u001b[1;33m(\u001b[0m\u001b[1;33m)\u001b[0m\u001b[1;33m\u001b[0m\u001b[1;33m\u001b[0m\u001b[0m\n\u001b[0m\u001b[0;32m   1084\u001b[0m \u001b[1;33m\u001b[0m\u001b[0m\n\u001b[0;32m   1085\u001b[0m         \u001b[1;32mif\u001b[0m \u001b[0mcreated_buffer\u001b[0m\u001b[1;33m:\u001b[0m\u001b[1;33m\u001b[0m\u001b[1;33m\u001b[0m\u001b[0m\n",
      "\u001b[1;32m~\\Envs\\openrice\\lib\\site-packages\\pandas\\io\\formats\\csvs.py\u001b[0m in \u001b[0;36msave\u001b[1;34m(self)\u001b[0m\n\u001b[0;32m    226\u001b[0m         \"\"\"\n\u001b[0;32m    227\u001b[0m         \u001b[1;31m# apply compression and byte/text conversion\u001b[0m\u001b[1;33m\u001b[0m\u001b[1;33m\u001b[0m\u001b[1;33m\u001b[0m\u001b[0m\n\u001b[1;32m--> 228\u001b[1;33m         with get_handle(\n\u001b[0m\u001b[0;32m    229\u001b[0m             \u001b[0mself\u001b[0m\u001b[1;33m.\u001b[0m\u001b[0mfilepath_or_buffer\u001b[0m\u001b[1;33m,\u001b[0m\u001b[1;33m\u001b[0m\u001b[1;33m\u001b[0m\u001b[0m\n\u001b[0;32m    230\u001b[0m             \u001b[0mself\u001b[0m\u001b[1;33m.\u001b[0m\u001b[0mmode\u001b[0m\u001b[1;33m,\u001b[0m\u001b[1;33m\u001b[0m\u001b[1;33m\u001b[0m\u001b[0m\n",
      "\u001b[1;32m~\\Envs\\openrice\\lib\\site-packages\\pandas\\io\\common.py\u001b[0m in \u001b[0;36mget_handle\u001b[1;34m(path_or_buf, mode, encoding, compression, memory_map, is_text, errors, storage_options)\u001b[0m\n\u001b[0;32m    640\u001b[0m                 \u001b[0merrors\u001b[0m \u001b[1;33m=\u001b[0m \u001b[1;34m\"replace\"\u001b[0m\u001b[1;33m\u001b[0m\u001b[1;33m\u001b[0m\u001b[0m\n\u001b[0;32m    641\u001b[0m             \u001b[1;31m# Encoding\u001b[0m\u001b[1;33m\u001b[0m\u001b[1;33m\u001b[0m\u001b[1;33m\u001b[0m\u001b[0m\n\u001b[1;32m--> 642\u001b[1;33m             handle = open(\n\u001b[0m\u001b[0;32m    643\u001b[0m                 \u001b[0mhandle\u001b[0m\u001b[1;33m,\u001b[0m\u001b[1;33m\u001b[0m\u001b[1;33m\u001b[0m\u001b[0m\n\u001b[0;32m    644\u001b[0m                 \u001b[0mioargs\u001b[0m\u001b[1;33m.\u001b[0m\u001b[0mmode\u001b[0m\u001b[1;33m,\u001b[0m\u001b[1;33m\u001b[0m\u001b[1;33m\u001b[0m\u001b[0m\n",
      "\u001b[1;31mPermissionError\u001b[0m: [Errno 13] Permission denied: 'C:\\\\Users\\\\tlebr\\\\Google Drive\\\\fdd\\\\dailynews\\\\cybernews\\\\data\\\\old_arts\\\\mideast_top_sources.csv'"
     ]
    }
   ],
   "source": [
    "df2.Source.str.lower().str.strip().value_counts().to_csv(r\"C:\\Users\\tlebr\\Google Drive\\fdd\\dailynews\\cybernews\\data\\old_arts\\mideast_top_sources.csv\")"
   ]
  },
  {
   "cell_type": "code",
   "execution_count": 37,
   "id": "practical-consolidation",
   "metadata": {},
   "outputs": [],
   "source": [
    "kurd24 = df2[df2.Source.str.lower().str.strip() == \"kurdistan 24\"]\n",
    "kurd24 = kurd24[kurd24.Url.notna()]"
   ]
  },
  {
   "cell_type": "code",
   "execution_count": null,
   "id": "subsequent-provincial",
   "metadata": {},
   "outputs": [],
   "source": [
    "urls = list(df2[df2.Source.str.lower().str.strip() == \"kurdistan 24\"].Url)"
   ]
  }
 ],
 "metadata": {
  "kernelspec": {
   "display_name": "openrice",
   "language": "python",
   "name": "openrice"
  },
  "language_info": {
   "codemirror_mode": {
    "name": "ipython",
    "version": 3
   },
   "file_extension": ".py",
   "mimetype": "text/x-python",
   "name": "python",
   "nbconvert_exporter": "python",
   "pygments_lexer": "ipython3",
   "version": "3.9.2"
  }
 },
 "nbformat": 4,
 "nbformat_minor": 5
}
